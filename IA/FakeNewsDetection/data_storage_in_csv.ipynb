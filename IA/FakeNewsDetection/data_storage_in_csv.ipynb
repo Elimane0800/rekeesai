{
 "cells": [
  {
   "cell_type": "code",
   "execution_count": 8,
   "metadata": {},
   "outputs": [],
   "source": [
    "import csv\n",
    "from datetime import datetime\n",
    "import uuid"
   ]
  },
  {
   "cell_type": "code",
   "execution_count": 11,
   "metadata": {},
   "outputs": [],
   "source": [
    "\n",
    "VerificationStorage = \"historique_verifications.csv\"  # Nom du fichier CSV constant\n",
    "\n",
    "def sauvegarder_resultat_csv(texte_verifie, resultat):\n",
    "    now = datetime.now()\n",
    "    date_heure = now.strftime(\"%Y-%m-%d %H:%M:%S\")\n",
    "\n",
    "    # Générer un ID utilisateur unique à l'aide du module uuid\n",
    "    id_utilisateur = str(uuid.uuid4())\n",
    "\n",
    "    # Écrire les données dans le fichier CSV en mode ajout ('a')\n",
    "    with open(VerificationStorage, mode='a', newline='') as fichier:\n",
    "        writer = csv.writer(fichier)\n",
    "        # Écriture d'en-têtes si le fichier est vide\n",
    "        if fichier.tell() == 0:\n",
    "            writer.writerow([\"ID Utilisateur\", \"Date Heure\", \"Texte Vérifié\", \"Résultat\"])\n",
    "        writer.writerow([id_utilisateur, date_heure, texte_verifie, resultat])\n"
   ]
  },
  {
   "cell_type": "code",
   "execution_count": 14,
   "metadata": {},
   "outputs": [],
   "source": [
    "# Exemple d'utilisation\n",
    "\n",
    "texte_verifie = \"Ceci est un texte vérifié.\"\n",
    "resultat = \"Fake News\"\n",
    "sauvegarder_resultat_csv(texte_verifie, resultat)"
   ]
  }
 ],
 "metadata": {
  "kernelspec": {
   "display_name": "Python 3",
   "language": "python",
   "name": "python3"
  },
  "language_info": {
   "codemirror_mode": {
    "name": "ipython",
    "version": 3
   },
   "file_extension": ".py",
   "mimetype": "text/x-python",
   "name": "python",
   "nbconvert_exporter": "python",
   "pygments_lexer": "ipython3",
   "version": "3.9.6"
  }
 },
 "nbformat": 4,
 "nbformat_minor": 2
}
